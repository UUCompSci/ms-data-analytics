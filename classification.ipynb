{
 "cells": [
  {
   "cell_type": "code",
   "execution_count": 3,
   "metadata": {},
   "outputs": [
    {
     "name": "stdout",
     "output_type": "stream",
     "text": [
      "\n",
      "Model accuracy score:  0.9777777777777777\n",
      "\n",
      "From the test data\n",
      "43 \t Iris-versicolor \t Iris-virginica  ****\n",
      "\n",
      " Confusion Matrix\n",
      " [[15  0  0]\n",
      " [ 0 13  0]\n",
      " [ 0  1 16]]\n"
     ]
    }
   ],
   "source": [
    "import pandas as pd\n",
    "import numpy as np\n",
    "from sklearn.model_selection import train_test_split\n",
    "from sklearn.metrics import accuracy_score\n",
    "from sklearn.neighbors import KNeighborsClassifier\n",
    "from sklearn.metrics import confusion_matrix\n",
    "\n",
    "names = ['sepal_length', 'sepal_width', 'petal_length', 'petal_width', 'class']\n",
    "\n",
    "df = pd.read_csv('iris/iris.data', header=None, names=names)\n",
    "X = np.array(df.iloc[:, 0:4])\n",
    "y = np.array(df['class'])\n",
    "\n",
    "X_train, X_test, y_train, y_test = train_test_split(X, y, test_size=0.30)\n",
    "\n",
    "knn = KNeighborsClassifier(n_neighbors=3)\n",
    "knn.fit(X_train, y_train)\n",
    "pred = knn.predict(X_test)\n",
    "\n",
    "print('\\nModel accuracy score: ', accuracy_score(y_test, pred))\n",
    "print('\\nFrom the test data')\n",
    "for i in range(len(pred)):\n",
    "    if pred[i] != y_test[i]:\n",
    "        print(i, '\\t', pred[i], '\\t', y_test[i], ' ****')\n",
    "\n",
    "print('\\n Confusion Matrix\\n', confusion_matrix(y_test, pred))"
   ]
  }
 ],
 "metadata": {
  "kernelspec": {
   "display_name": "base",
   "language": "python",
   "name": "python3"
  },
  "language_info": {
   "codemirror_mode": {
    "name": "ipython",
    "version": 3
   },
   "file_extension": ".py",
   "mimetype": "text/x-python",
   "name": "python",
   "nbconvert_exporter": "python",
   "pygments_lexer": "ipython3",
   "version": "3.9.18"
  }
 },
 "nbformat": 4,
 "nbformat_minor": 2
}
